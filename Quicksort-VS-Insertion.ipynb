{
 "cells": [
  {
   "cell_type": "code",
   "execution_count": 19,
   "metadata": {
    "collapsed": true
   },
   "outputs": [],
   "source": [
    "import math\n",
    "import time\n",
    "import numpy as np\n",
    "import pylab as pl\n",
    "import random as rnd\n",
    "from __future__ import unicode_literals\n",
    "%matplotlib inline"
   ]
  },
  {
   "cell_type": "markdown",
   "metadata": {},
   "source": [
    "# Quicksort vs Insertion Sort"
   ]
  },
  {
   "cell_type": "markdown",
   "metadata": {},
   "source": [
    "El objetivo del presente laboratorio es determinar el número de elementos K en un arreglo, tal que si el arreglo tiene K o menos elementos, es más eficiente usar el algoritmo de Insertion Sort que de Quicksort para llevar a cabo el ordenamiento. En este sentido, tenemos en primer lugar la siquiente implementación de Insertion Sort:"
   ]
  },
  {
   "cell_type": "code",
   "execution_count": 13,
   "metadata": {
    "collapsed": true
   },
   "outputs": [],
   "source": [
    "def insertion_sort(N):\n",
    "    for j in range(1, len(N)):\n",
    "        key = N[j]\n",
    "        i = j\n",
    "        while i > 0 and N[i-1] > key:\n",
    "            N[i] = N[i-1]\n",
    "            i -= 1\n",
    "        N[i] = key\n",
    "    return N"
   ]
  },
  {
   "cell_type": "markdown",
   "metadata": {
    "collapsed": true
   },
   "source": [
    "Para la implementación de Quicksort tenemos las siguientes funciones en python:"
   ]
  },
  {
   "cell_type": "code",
   "execution_count": 14,
   "metadata": {
    "collapsed": true
   },
   "outputs": [],
   "source": [
    "def quicksort(A, p, r):\n",
    "    if p < r:\n",
    "        q = partition(A, p, r)\n",
    "        quicksort(A, p, q-1)\n",
    "        quicksort(A, q + 1, r)\n",
    "    return A"
   ]
  },
  {
   "cell_type": "code",
   "execution_count": 15,
   "metadata": {
    "collapsed": true
   },
   "outputs": [],
   "source": [
    "def partition(A, p, r):\n",
    "    x = A[r]\n",
    "    i = p - 1\n",
    "    for j in range(p, r):\n",
    "        if A[j] <= x:\n",
    "            i += 1\n",
    "            A[i], A[j] = A[j], A[i]\n",
    "    A [i + 1], A[r] = A[r], A[i + 1]\n",
    "    return i + 1"
   ]
  },
  {
   "cell_type": "markdown",
   "metadata": {},
   "source": [
    "Para medir los tiempos que toma realizar el ordenamiento de 50 arreglos con tamaños 1 hasta 50, cuyos elementos están aleatoriamente ordenador, por medio de Insertion Sort, se tiene la siguiente función:"
   ]
  },
  {
   "cell_type": "code",
   "execution_count": 16,
   "metadata": {
    "collapsed": true
   },
   "outputs": [],
   "source": [
    "def time_insertion(n):\n",
    "    results = []\n",
    "    for i in range(1, n + 1):\n",
    "        l = range(i)\n",
    "        rnd.shuffle(l)\n",
    "        start_time = time.clock()\n",
    "        insertion_sort(l)\n",
    "        end_time = time.clock()\n",
    "        results.append(end_time - start_time)\n",
    "    return results"
   ]
  },
  {
   "cell_type": "markdown",
   "metadata": {},
   "source": [
    "De forma similar, se tiene otra función para calcular los tiempos de ejecución de Quicksort. No obstante se tiene una diferencia fundamental. Para cada tamaño de arreglo considerado, se ejecuta 10 veces el ordenamiento alterando aleatoriamente la ubicación de los elementos. Posteriormente se calcula el promedio del tiempo de las ejecuciones y este resultado se agrega a la lista de tiempos:"
   ]
  },
  {
   "cell_type": "code",
   "execution_count": 31,
   "metadata": {
    "collapsed": true
   },
   "outputs": [],
   "source": [
    "def time_quicksort(n):\n",
    "    results = []\n",
    "    for i in range(1, n + 1):\n",
    "        sums = 0\n",
    "        for j in range(10):\n",
    "            l = range(i)\n",
    "            rnd.shuffle(l)\n",
    "            start_time = time.clock()\n",
    "            quicksort(l, 0, len(l)-1)\n",
    "            end_time = time.clock()\n",
    "            sums += (end_time - start_time)\n",
    "        results.append(sums/10.0)\n",
    "    return results"
   ]
  },
  {
   "cell_type": "markdown",
   "metadata": {},
   "source": [
    "Los resultados se almacenan en dos listas:"
   ]
  },
  {
   "cell_type": "code",
   "execution_count": 35,
   "metadata": {
    "collapsed": false
   },
   "outputs": [],
   "source": [
    "results_QS = time_quicksort(40)\n",
    "results_IS = time_insertion(40)"
   ]
  },
  {
   "cell_type": "code",
   "execution_count": 38,
   "metadata": {
    "collapsed": false
   },
   "outputs": [
    {
     "data": {
      "text/plain": [
       "[<matplotlib.lines.Line2D at 0xccf72b0>,\n",
       " <matplotlib.lines.Line2D at 0xccf74a8>]"
      ]
     },
     "execution_count": 38,
     "metadata": {},
     "output_type": "execute_result"
    },
    {
     "data": {
      "image/png": "[encoded data removed]",
      "text/plain": [
       "<matplotlib.figure.Figure at 0xcbd96a0>"
      ]
     },
     "metadata": {},
     "output_type": "display_data"
    }
   ],
   "source": [
    "pl.clf()\n",
    "x = np.arange(40)\n",
    "pl.plot(x, results_QS, 'k.', results_IS, 'b.')"
   ]
  },
  {
   "cell_type": "markdown",
   "metadata": {},
   "source": [
    "Los puntos negros corresponden a los tiempos de ejecución promedio de Quicksort, y los puntos azules a los tiempos de ejecución de insertion sort (los cuales no cambian). Es posible apreciar que para un tamaño de arreglo K <= 35, el algoritmo de Insertion Sort resulta ser más eficiente."
   ]
  }
 ],
 "metadata": {
  "kernelspec": {
   "display_name": "Python 2",
   "language": "python",
   "name": "python2"
  },
  "language_info": {
   "codemirror_mode": {
    "name": "ipython",
    "version": 2
   },
   "file_extension": ".py",
   "mimetype": "text/x-python",
   "name": "python",
   "nbconvert_exporter": "python",
   "pygments_lexer": "ipython2",
   "version": "2.7.10"
  }
 },
 "nbformat": 4,
 "nbformat_minor": 0
}
